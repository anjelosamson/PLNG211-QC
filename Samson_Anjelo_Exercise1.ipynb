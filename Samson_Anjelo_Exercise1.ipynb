{
  "nbformat": 4,
  "nbformat_minor": 0,
  "metadata": {
    "colab": {
      "provenance": [],
      "authorship_tag": "ABX9TyNpK8GG1hgAEcHTvBPYzYPx",
      "include_colab_link": true
    },
    "kernelspec": {
      "name": "python3",
      "display_name": "Python 3"
    },
    "language_info": {
      "name": "python"
    }
  },
  "cells": [
    {
      "cell_type": "markdown",
      "metadata": {
        "id": "view-in-github",
        "colab_type": "text"
      },
      "source": [
        "<a href=\"https://colab.research.google.com/github/anjelosamson/PLNG211-QC/blob/main/Samson_Anjelo_Exercise1.ipynb\" target=\"_parent\"><img src=\"https://colab.research.google.com/assets/colab-badge.svg\" alt=\"Open In Colab\"/></a>"
      ]
    },
    {
      "cell_type": "code",
      "execution_count": 8,
      "metadata": {
        "colab": {
          "base_uri": "https://localhost:8080/"
        },
        "id": "lx5RLtL2i02k",
        "outputId": "6c147b4c-c319-4446-f768-fc84e73f9706"
      },
      "outputs": [
        {
          "output_type": "stream",
          "name": "stdout",
          "text": [
            "Enter number of elements : 6\n",
            "26\n",
            "49\n",
            "98\n",
            "87\n",
            "62\n",
            "75\n",
            "Total sum of even numbers : 186\n"
          ]
        }
      ],
      "source": [
        "lst = []\n",
        "sum = 0\n",
        "\n",
        "n = int(input(\"Enter number of elements : \"))\n",
        "\n",
        "for i in range(0, n):\n",
        "    ele = int(input())\n",
        "  \n",
        "    lst.append(ele)\n",
        "      \n",
        "for x in lst:\n",
        "  if x % 2 == 0:\n",
        "    sum += x\n",
        "\n",
        "print(\"Total sum of even numbers :\", sum)"
      ]
    }
  ]
}