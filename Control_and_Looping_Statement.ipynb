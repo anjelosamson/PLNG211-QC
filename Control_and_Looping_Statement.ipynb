{
  "nbformat": 4,
  "nbformat_minor": 0,
  "metadata": {
    "colab": {
      "provenance": [],
      "authorship_tag": "ABX9TyPrmbWi6JmaGuPxDY/eV/0f",
      "include_colab_link": true
    },
    "kernelspec": {
      "name": "python3",
      "display_name": "Python 3"
    },
    "language_info": {
      "name": "python"
    }
  },
  "cells": [
    {
      "cell_type": "markdown",
      "metadata": {
        "id": "view-in-github",
        "colab_type": "text"
      },
      "source": [
        "<a href=\"https://colab.research.google.com/github/anjelosamson/PLNG211-QC/blob/main/Control_and_Looping_Statement.ipynb\" target=\"_parent\"><img src=\"https://colab.research.google.com/assets/colab-badge.svg\" alt=\"Open In Colab\"/></a>"
      ]
    },
    {
      "cell_type": "code",
      "execution_count": 2,
      "metadata": {
        "colab": {
          "base_uri": "https://localhost:8080/"
        },
        "id": "RdHEiOfVaEtA",
        "outputId": "5209a672-fb2d-4b93-88c4-722d312abde5"
      },
      "outputs": [
        {
          "output_type": "stream",
          "name": "stdout",
          "text": [
            "a is less than b\n"
          ]
        }
      ],
      "source": [
        "#If Statement\n",
        "\n",
        "a= 100\n",
        "b= 12\n",
        "\n",
        "if (a>b):\n",
        "  print(\"a is less than b\")"
      ]
    },
    {
      "cell_type": "code",
      "source": [
        "#Elif Statement\n",
        "\n",
        "if a<b:\n",
        "  print(\"a is less than b\")\n",
        "elif a>b:\n",
        "  print(\"a is greater than b\")"
      ],
      "metadata": {
        "colab": {
          "base_uri": "https://localhost:8080/"
        },
        "id": "4uTO2wB6aZ_7",
        "outputId": "cad02310-d07d-4765-c370-0229bcdf4d42"
      },
      "execution_count": 13,
      "outputs": [
        {
          "output_type": "stream",
          "name": "stdout",
          "text": [
            "a is greater than b\n"
          ]
        }
      ]
    },
    {
      "cell_type": "code",
      "source": [
        "if a<b:\n",
        "  print(\"a is less than b\")\n",
        "elif a>b:\n",
        "  print(\"a is greater than b\")\n",
        "else:\n",
        "  print(\"a is equal to b\")"
      ],
      "metadata": {
        "colab": {
          "base_uri": "https://localhost:8080/"
        },
        "id": "lXcHry1macdu",
        "outputId": "139729e9-e79b-4335-9b13-66ffaf1ca952"
      },
      "execution_count": 4,
      "outputs": [
        {
          "output_type": "stream",
          "name": "stdout",
          "text": [
            "a is greater than b\n"
          ]
        }
      ]
    },
    {
      "cell_type": "code",
      "source": [
        "#Short Hand If Statement\n",
        "\n",
        "c=10\n",
        "d=5\n",
        "\n",
        "if c>d: print(\"c>d\")"
      ],
      "metadata": {
        "colab": {
          "base_uri": "https://localhost:8080/"
        },
        "id": "4QPaARY9agWW",
        "outputId": "7a9a2874-a574-4d6a-bcbe-5aeec817ee4e"
      },
      "execution_count": 5,
      "outputs": [
        {
          "output_type": "stream",
          "name": "stdout",
          "text": [
            "c>d\n"
          ]
        }
      ]
    },
    {
      "cell_type": "code",
      "source": [
        "#Short Hand If...Else Statement\n",
        "\n",
        "print(\"c>d\") if c>d else print(\"d>c\")"
      ],
      "metadata": {
        "colab": {
          "base_uri": "https://localhost:8080/"
        },
        "id": "xCul6XxCalBu",
        "outputId": "369a665e-7229-493b-f319-2d9913c04445"
      },
      "execution_count": 12,
      "outputs": [
        {
          "output_type": "stream",
          "name": "stdout",
          "text": [
            "c>d\n"
          ]
        }
      ]
    },
    {
      "cell_type": "code",
      "source": [
        "#And Statement\n",
        "\n",
        "if 5>10 and 8>4:\n",
        "  print(\"Both statements are true\")\n",
        "else:\n",
        "  print(\"One of the statements is false / Both statements are not true\")"
      ],
      "metadata": {
        "colab": {
          "base_uri": "https://localhost:8080/"
        },
        "id": "eqRpry3marhT",
        "outputId": "24052cc6-9cd6-404e-9d3d-9f31431c7db1"
      },
      "execution_count": 11,
      "outputs": [
        {
          "output_type": "stream",
          "name": "stdout",
          "text": [
            "One of the statements is false / Both statements are not true\n"
          ]
        }
      ]
    },
    {
      "cell_type": "code",
      "source": [
        "#Or Statement\n",
        "\n",
        "if 5>10 or 4>8:\n",
        "  print(\"True\")\n",
        "else:\n",
        "  print(\"False\")"
      ],
      "metadata": {
        "colab": {
          "base_uri": "https://localhost:8080/"
        },
        "id": "tG3L-0BtavuP",
        "outputId": "19054455-c27e-4ad8-8b98-e1ba254489d1"
      },
      "execution_count": 10,
      "outputs": [
        {
          "output_type": "stream",
          "name": "stdout",
          "text": [
            "False\n"
          ]
        }
      ]
    },
    {
      "cell_type": "code",
      "source": [
        "#Bitwise operator ^ (xor)\n",
        "\n",
        "e=4   \n",
        "f=2   \n",
        "\n",
        "e^f"
      ],
      "metadata": {
        "colab": {
          "base_uri": "https://localhost:8080/"
        },
        "id": "PaAAvFjgaxzy",
        "outputId": "74f6aed9-a2fd-48a6-ff6e-da658e407601"
      },
      "execution_count": 9,
      "outputs": [
        {
          "output_type": "execute_result",
          "data": {
            "text/plain": [
              "6"
            ]
          },
          "metadata": {},
          "execution_count": 9
        }
      ]
    },
    {
      "cell_type": "code",
      "source": [
        "#Nested If Statement\n",
        "\n",
        "x = 41\n",
        "if x>10:\n",
        "  print(\"number is above 10\")\n",
        "  if x>20:\n",
        "    print(\"number is above 20\")\n",
        "    if x>30:\n",
        "      print(\"number is above 30\")\n",
        "      if x>40:\n",
        "        print(\"number is above 40\")\n",
        "        if x>50:\n",
        "          print(\"number is above 50\")\n",
        "        else:\n",
        "          print(\"number is less than 50\")\n",
        "      else:\n",
        "        print(\"number is less than 40\")"
      ],
      "metadata": {
        "colab": {
          "base_uri": "https://localhost:8080/"
        },
        "id": "m74sW6Ffa2Wa",
        "outputId": "9f7b5da4-682a-47b1-e143-67769e657c58"
      },
      "execution_count": 8,
      "outputs": [
        {
          "output_type": "stream",
          "name": "stdout",
          "text": [
            "number is above 10\n",
            "number is above 20\n",
            "number is above 30\n",
            "number is above 40\n",
            "number is less than 50\n"
          ]
        }
      ]
    },
    {
      "cell_type": "code",
      "source": [
        "#Write a program that determuines If the input age is qualified to vote or not.\n",
        "#The qualifying age is 18 years old and above."
      ],
      "metadata": {
        "id": "fPQmuR0sbIEr"
      },
      "execution_count": 22,
      "outputs": []
    },
    {
      "cell_type": "code",
      "source": [
        "#Application 1. Write a program that determines if the input age is qualified to vote or not.\n",
        "\n",
        "age = input(\"Input your age: \")\n",
        "#type(age(int))\n",
        "if int (age)>17:\n",
        "    print(\"You are legal to vote.\")\n",
        "else:\n",
        "    print(\"You're not legible to vote.\")"
      ],
      "metadata": {
        "colab": {
          "base_uri": "https://localhost:8080/"
        },
        "id": "zLTy8EXmbQ_H",
        "outputId": "1fa5ab76-2e12-4bfb-d8da-201ef0c7e712"
      },
      "execution_count": 21,
      "outputs": [
        {
          "output_type": "stream",
          "name": "stdout",
          "text": [
            "Input your age: 18\n",
            "You are legal to vote.\n"
          ]
        }
      ]
    },
    {
      "cell_type": "code",
      "source": [
        "#Application 2. Write a program that determines if the number is POSITIVE, NEGATIVE, or Zero.\n",
        "\n",
        "num = input(\"Enter a number:\")\n",
        "num = int(num)\n",
        "\n",
        "if num > 0:\n",
        "  print(\"POSITIVE\")\n",
        "elif num<0:\n",
        "  print(\"NEGATIVE\")\n",
        "else:\n",
        "  print(\"ZERO\")"
      ],
      "metadata": {
        "colab": {
          "base_uri": "https://localhost:8080/"
        },
        "id": "aUSSOnAPbVBZ",
        "outputId": "befa6ba6-8d94-4532-b85c-bdf2ef9c68d6"
      },
      "execution_count": 20,
      "outputs": [
        {
          "output_type": "stream",
          "name": "stdout",
          "text": [
            "Enter a number:0\n",
            "ZERO\n"
          ]
        }
      ]
    },
    {
      "cell_type": "code",
      "source": [
        "#For loop Statement\n",
        "\n",
        "week = [\"Sunday\",\"Monday\",\"Tuesday\",\"Wednesday\",\"Thursday\",\"Friday\",\"Saturday\"]\n",
        "for y in week:\n",
        "  print(y)"
      ],
      "metadata": {
        "colab": {
          "base_uri": "https://localhost:8080/"
        },
        "id": "QiLvmLOSbZQe",
        "outputId": "37fb580c-9749-400f-f0ef-241f3a9a6fe0"
      },
      "execution_count": 19,
      "outputs": [
        {
          "output_type": "stream",
          "name": "stdout",
          "text": [
            "Sunday\n",
            "Monday\n",
            "Tuesday\n",
            "Wednesday\n",
            "Thursday\n",
            "Friday\n",
            "Saturday\n"
          ]
        }
      ]
    },
    {
      "cell_type": "code",
      "source": [
        "for x in \"week\":\n",
        " print(x)"
      ],
      "metadata": {
        "colab": {
          "base_uri": "https://localhost:8080/"
        },
        "id": "W8JxD-LbbZ2_",
        "outputId": "ab10564e-eb69-4e34-9439-1bfd78a0562f"
      },
      "execution_count": 18,
      "outputs": [
        {
          "output_type": "stream",
          "name": "stdout",
          "text": [
            "w\n",
            "e\n",
            "e\n",
            "k\n"
          ]
        }
      ]
    },
    {
      "cell_type": "code",
      "source": [
        "#range () function\n",
        "\n",
        "for x in range(6):\n",
        "  print(x)"
      ],
      "metadata": {
        "colab": {
          "base_uri": "https://localhost:8080/"
        },
        "id": "ZEtZ_YOcbeFs",
        "outputId": "b20809ef-62fb-4bc9-e573-01fe584e72fa"
      },
      "execution_count": 17,
      "outputs": [
        {
          "output_type": "stream",
          "name": "stdout",
          "text": [
            "0\n",
            "1\n",
            "2\n",
            "3\n",
            "4\n",
            "5\n"
          ]
        }
      ]
    },
    {
      "cell_type": "code",
      "source": [
        "#Nested Loop\n",
        "\n",
        "adjective = [\"red\",\"big\", \"tasty\"]\n",
        "fruits = [\"apple\",\"banana\",\"cherry\"]\n",
        "for x in adjective:\n",
        "  for y in fruits:\n",
        "    print(x,y)"
      ],
      "metadata": {
        "colab": {
          "base_uri": "https://localhost:8080/"
        },
        "id": "dzJdwC_sblD6",
        "outputId": "99ca4056-ab5e-415d-c82a-327b51b50b4f"
      },
      "execution_count": 16,
      "outputs": [
        {
          "output_type": "stream",
          "name": "stdout",
          "text": [
            "red apple\n",
            "red banana\n",
            "red cherry\n",
            "big apple\n",
            "big banana\n",
            "big cherry\n",
            "tasty apple\n",
            "tasty banana\n",
            "tasty cherry\n"
          ]
        }
      ]
    },
    {
      "cell_type": "code",
      "source": [
        "#While Loop\n",
        "\n",
        "i =1\n",
        "while i<6:\n",
        "  print(i)\n",
        "  i+=1      "
      ],
      "metadata": {
        "colab": {
          "base_uri": "https://localhost:8080/"
        },
        "id": "KSnviL6YbrCq",
        "outputId": "9b39c341-4bf7-4e91-d5cb-ad712b43648a"
      },
      "execution_count": 15,
      "outputs": [
        {
          "output_type": "stream",
          "name": "stdout",
          "text": [
            "1\n",
            "2\n",
            "3\n",
            "4\n",
            "5\n"
          ]
        }
      ]
    },
    {
      "cell_type": "code",
      "source": [
        "#APPLICATION 3\n",
        "#Using while loop and break statement, the output is only 3\n",
        "\n",
        "i= 1\n",
        "while i<=3:\n",
        "  if i==3:\n",
        "    print(i)\n",
        "    break\n",
        "  i+=1"
      ],
      "metadata": {
        "colab": {
          "base_uri": "https://localhost:8080/"
        },
        "id": "yEb_yZWNbt4C",
        "outputId": "c875088a-e11d-45b9-f729-b1b041fd972c"
      },
      "execution_count": 14,
      "outputs": [
        {
          "output_type": "stream",
          "name": "stdout",
          "text": [
            "3\n"
          ]
        }
      ]
    }
  ]
}