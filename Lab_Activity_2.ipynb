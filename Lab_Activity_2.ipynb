{
  "nbformat": 4,
  "nbformat_minor": 0,
  "metadata": {
    "colab": {
      "provenance": [],
      "authorship_tag": "ABX9TyOA5NEZLHU02YOHi61rnbz+",
      "include_colab_link": true
    },
    "kernelspec": {
      "name": "python3",
      "display_name": "Python 3"
    },
    "language_info": {
      "name": "python"
    }
  },
  "cells": [
    {
      "cell_type": "markdown",
      "metadata": {
        "id": "view-in-github",
        "colab_type": "text"
      },
      "source": [
        "<a href=\"https://colab.research.google.com/github/anjelosamson/PLNG211-QC/blob/main/Lab_Activity_2.ipynb\" target=\"_parent\"><img src=\"https://colab.research.google.com/assets/colab-badge.svg\" alt=\"Open In Colab\"/></a>"
      ]
    },
    {
      "cell_type": "code",
      "execution_count": 13,
      "metadata": {
        "colab": {
          "base_uri": "https://localhost:8080/"
        },
        "id": "lXh3cs0ezs1E",
        "outputId": "d35bfa7a-004f-4bc2-ca69-ce7994515b04"
      },
      "outputs": [
        {
          "output_type": "stream",
          "name": "stdout",
          "text": [
            "The name of the student is: me\n",
            "The student number is: 123\n",
            "The age of the student is: 12\n",
            "The school of the student is: olfu\n",
            "The course of the student is: bscs\n"
          ]
        }
      ],
      "source": [
        "class Student:\n",
        "  def __init__(self, name, studentNum, age, school, course):\n",
        "    self.name = name\n",
        "    self.studentNum = studentNum\n",
        "    self.age = age\n",
        "    self.school = school\n",
        "    self.course = course\n",
        "\n",
        "  def Info(self):\n",
        "    print(\"The name of the student is:\",self.name)\n",
        "    print(\"The student number is:\",self.studentNum)\n",
        "    print(\"The age of the student is:\",self.age)\n",
        "    print(\"The school of the student is:\",self.school)\n",
        "    print(\"The course of the student is:\",self.course)\n",
        "\n",
        "student1 = Student(\"me\", \"123\", \"12\", \"olfu\", \"bscs\")\n",
        "\n",
        "student1.Info()"
      ]
    }
  ]
}