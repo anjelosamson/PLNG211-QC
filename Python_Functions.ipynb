{
  "nbformat": 4,
  "nbformat_minor": 0,
  "metadata": {
    "colab": {
      "provenance": [],
      "authorship_tag": "ABX9TyMdUj1DwxKDD3NA+YBnoNl7",
      "include_colab_link": true
    },
    "kernelspec": {
      "name": "python3",
      "display_name": "Python 3"
    },
    "language_info": {
      "name": "python"
    }
  },
  "cells": [
    {
      "cell_type": "markdown",
      "metadata": {
        "id": "view-in-github",
        "colab_type": "text"
      },
      "source": [
        "<a href=\"https://colab.research.google.com/github/anjelosamson/PLNG211-QC/blob/main/Python_Functions.ipynb\" target=\"_parent\"><img src=\"https://colab.research.google.com/assets/colab-badge.svg\" alt=\"Open In Colab\"/></a>"
      ]
    },
    {
      "cell_type": "code",
      "source": [
        "def my_function(fname):\n",
        "  return(fname + \"Sayo\")\n",
        "  \n",
        "print(my_function(\"Mam\"))\n",
        "print(my_function(\"Sayo\"))\n",
        "print(my_function(\"Rizette\"))\n",
        "     "
      ],
      "metadata": {
        "id": "Xmv4L-1Jir2z",
        "colab": {
          "base_uri": "https://localhost:8080/"
        },
        "outputId": "786b4a47-88cf-4e22-a26f-a3925cef78a1"
      },
      "execution_count": 5,
      "outputs": [
        {
          "output_type": "stream",
          "name": "stdout",
          "text": [
            "MamSayo\n",
            "SayoSayo\n",
            "RizetteSayo\n"
          ]
        }
      ]
    },
    {
      "cell_type": "code",
      "source": [
        "def myFunction(x):\n",
        "  return(5+x)\n",
        "print(myFunction(4))\n",
        "print(myFunction(5))\n",
        "print(myFunction(6))"
      ],
      "metadata": {
        "id": "Ox2wWZ0miwoh",
        "colab": {
          "base_uri": "https://localhost:8080/"
        },
        "outputId": "9d1c5d71-3769-4f56-fb9b-ab920f961497"
      },
      "execution_count": 6,
      "outputs": [
        {
          "output_type": "stream",
          "name": "stdout",
          "text": [
            "9\n",
            "10\n",
            "11\n"
          ]
        }
      ]
    },
    {
      "cell_type": "code",
      "source": [
        "#Exercise 1\n",
        "\n",
        "a = [2,3,4]\n",
        "a = min(2,3,4)\n",
        "b = [2, -3, 4, 7, -5]\n",
        "b = max(b)\n",
        "c = (2, -3, min (4, 7), -5)\n",
        "c = max(c)\n",
        "\n",
        "print(a)\n",
        "print(b)\n",
        "print(c)"
      ],
      "metadata": {
        "id": "FZ4jVJNzi3NC",
        "colab": {
          "base_uri": "https://localhost:8080/"
        },
        "outputId": "c9954e7a-c73e-4a34-92d9-8ccffb230a63"
      },
      "execution_count": 7,
      "outputs": [
        {
          "output_type": "stream",
          "name": "stdout",
          "text": [
            "2\n",
            "7\n",
            "4\n"
          ]
        }
      ]
    },
    {
      "cell_type": "code",
      "source": [
        "#Exercise 2\n",
        "\n",
        "def sum(a,b,c):\n",
        "  return(a+b+c)\n",
        "def avg(a,b,c):\n",
        "  return((a+b+c)/3)\n",
        "def sqr(a,b,c):\n",
        "  return((a**2)+(b**2)+(c**2))\n",
        "\n",
        "print(sum(3,2,1))\n",
        "print(avg(1,2,3))\n",
        "print(sqr(2,4,6))"
      ],
      "metadata": {
        "id": "D1-CfzOyjaD0",
        "colab": {
          "base_uri": "https://localhost:8080/"
        },
        "outputId": "af21a4f8-854d-451c-cbd7-580351cae270"
      },
      "execution_count": 8,
      "outputs": [
        {
          "output_type": "stream",
          "name": "stdout",
          "text": [
            "6\n",
            "2.0\n",
            "56\n"
          ]
        }
      ]
    }
  ]
}