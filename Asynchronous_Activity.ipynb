{
  "nbformat": 4,
  "nbformat_minor": 0,
  "metadata": {
    "colab": {
      "provenance": [],
      "authorship_tag": "ABX9TyMe7pRAPS+8vVZvOyxzxdUz",
      "include_colab_link": true
    },
    "kernelspec": {
      "name": "python3",
      "display_name": "Python 3"
    },
    "language_info": {
      "name": "python"
    }
  },
  "cells": [
    {
      "cell_type": "markdown",
      "metadata": {
        "id": "view-in-github",
        "colab_type": "text"
      },
      "source": [
        "<a href=\"https://colab.research.google.com/github/anjelosamson/PLNG211-QC/blob/main/Asynchronous_Activity.ipynb\" target=\"_parent\"><img src=\"https://colab.research.google.com/assets/colab-badge.svg\" alt=\"Open In Colab\"/></a>"
      ]
    },
    {
      "cell_type": "code",
      "execution_count": 4,
      "metadata": {
        "id": "LmaqtLg3evw6",
        "colab": {
          "base_uri": "https://localhost:8080/"
        },
        "outputId": "a040713a-133b-4aa9-bd44-3aa55a79eb95"
      },
      "outputs": [
        {
          "output_type": "stream",
          "name": "stdout",
          "text": [
            "Net pay = 6300.0\n"
          ]
        }
      ],
      "source": [
        "salaryRate = 600\n",
        "salary =  salaryRate * 15\n",
        "taxableAmount = salary*.30\n",
        "netPay = salary - taxableAmount\n",
        "\n",
        "print('Net pay =', netPay)"
      ]
    }
  ]
}